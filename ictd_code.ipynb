{
 "cells": [
  {
   "cell_type": "code",
   "execution_count": 17,
   "id": "be1770d5-80a6-488c-869b-72a78195a658",
   "metadata": {},
   "outputs": [
    {
     "name": "stdout",
     "output_type": "stream",
     "text": [
      "2.1.0\n",
      "0.6.0\n"
     ]
    }
   ],
   "source": [
    "import torch\n",
    "import torchtext\n",
    "print(torch.__version__)\n",
    "print(torchtext.__version__)"
   ]
  },
  {
   "cell_type": "code",
   "execution_count": 18,
   "id": "167c95a2-2dd6-4289-bedb-f2cb7aba69fa",
   "metadata": {},
   "outputs": [],
   "source": [
    "#necessary library imports\n",
    "import torch\n",
    "import torch.nn as nn\n",
    "import torch.optim as optim\n",
    "from torchtext.data import TabularDataset\n",
    "from torchtext.data import Field, BucketIterator\n",
    "import numpy as np\n",
    "import random\n",
    "import math\n",
    "import time\n",
    "import os\n",
    "#import pandas as pd\n",
    "import pickle\n",
    "import re\n",
    "import string"
   ]
  },
  {
   "cell_type": "code",
   "execution_count": 19,
   "id": "d4303d5d-9e57-42a1-bb3a-c9ec75a21a22",
   "metadata": {},
   "outputs": [],
   "source": [
    "def cleaning_text(org_text):\n",
    "    with open(\"./static/assets/spchar.txt\", 'r', encoding='utf-8') as f:\n",
    "        sp_char = f.read()\n",
    "    sp_char = sp_char.split('।')\n",
    "    stand_punct = [ch for ch in string.punctuation]\n",
    "    sp_char = sp_char+stand_punct\n",
    "    cleaned_text = ''\n",
    "    for ch in org_text:\n",
    "        if ch in sp_char:\n",
    "            cleaned_text = cleaned_text+' '\n",
    "        else:\n",
    "            cleaned_text = cleaned_text+ch\n",
    "    #print(cleaned_text)\n",
    "    cleaned_text = re.sub('[a-zA-Z0-9]+', ' ', cleaned_text)\n",
    "    cleaned_text = re.sub('।', ' । ', cleaned_text)\n",
    "    cleaned_text = re.sub('‘', '', cleaned_text)\n",
    "    cleaned_text = re.sub('’', '', cleaned_text)\n",
    "    cleaned_text = re.sub('–', ' ', cleaned_text)\n",
    "    cleaned_text = re.sub('\\s+', ' ', cleaned_text)\n",
    "    \n",
    "    print(cleaned_text)\n",
    "    return cleaned_text"
   ]
  },
  {
   "cell_type": "code",
   "execution_count": 20,
   "id": "586d7c7d-9d31-4eba-a39c-b8c49ed53d52",
   "metadata": {},
   "outputs": [],
   "source": [
    "def eval_one(bd):\n",
    "    #assign gpu if available\n",
    "    device = torch.device('cuda' if torch.cuda.is_available() else 'cpu')\n",
    "    with open('./static/assets/vocab.pkl', 'rb') as f:\n",
    "        vc = pickle.load(f)\n",
    "    \n",
    "    SRC = vc['src']\n",
    "    TRG = vc['trg']\n",
    "    #initialize global configs\n",
    "\n",
    "    #initialize global configs\n",
    "    INPUT_DIM = len(SRC.vocab)\n",
    "    OUTPUT_DIM = len(TRG.vocab)\n",
    "    ENC_EMB_DIM = 128\n",
    "    DEC_EMB_DIM = 128\n",
    "    HID_DIM = 256\n",
    "    ENC_HID_DIM = 256\n",
    "    DEC_HID_DIM = 256\n",
    "    N_LAYERS = 3\n",
    "    ENC_DROPOUT = 0.10\n",
    "    DEC_DROPOUT = 0.10\n",
    "\n",
    "    class Encoder(nn.Module):\n",
    "        def __init__(self, input_dim, emb_dim, hid_dim, dropout):\n",
    "            super().__init__()\n",
    "            self.hid_dim = hid_dim\n",
    "            self.embedding = nn.Embedding(input_dim, emb_dim) #no dropout as only one layer!\n",
    "            self.rnn = nn.GRU(emb_dim, hid_dim)\n",
    "            self.dropout = nn.Dropout(dropout)\n",
    "\n",
    "        def forward(self, src):\n",
    "            #src = [src len, batch size]\n",
    "            embedded = self.dropout(self.embedding(src))\n",
    "            #embedded = [src len, batch size, emb dim]\n",
    "            outputs, hidden = self.rnn(embedded) #no cell state!\n",
    "            #outputs = [src len, batch size, hid dim * n directions]\n",
    "            #hidden = [n layers * n directions, batch size, hid dim]\n",
    "            #outputs are always from the top hidden layer\n",
    "            return hidden\n",
    "\n",
    "    class Decoder(nn.Module):\n",
    "        def __init__(self, output_dim, emb_dim, hid_dim, dropout):\n",
    "            super().__init__()\n",
    "            self.hid_dim = hid_dim\n",
    "            self.output_dim = output_dim\n",
    "            self.embedding = nn.Embedding(output_dim, emb_dim)\n",
    "            self.rnn = nn.GRU(emb_dim + hid_dim, hid_dim)\n",
    "            self.fc_out = nn.Linear(emb_dim + hid_dim * 2, output_dim)\n",
    "            self.dropout = nn.Dropout(dropout)\n",
    "\n",
    "        def forward(self, input, hidden, context):\n",
    "            #input = [batch size]\n",
    "            #hidden = [n layers * n directions, batch size, hid dim]\n",
    "            #context = [n layers * n directions, batch size, hid dim]\n",
    "            #n layers and n directions in the decoder will both always be 1, therefore:\n",
    "            #hidden = [1, batch size, hid dim]\n",
    "            #context = [1, batch size, hid dim]\n",
    "            input = input.unsqueeze(0)\n",
    "            #input = [1, batch size]\n",
    "            embedded = self.dropout(self.embedding(input))\n",
    "            #embedded = [1, batch size, emb dim]\n",
    "            emb_con = torch.cat((embedded, context), dim = 2)\n",
    "            #emb_con = [1, batch size, emb dim + hid dim]\n",
    "            output, hidden = self.rnn(emb_con, hidden)\n",
    "            #output = [seq len, batch size, hid dim * n directions]\n",
    "            #hidden = [n layers * n directions, batch size, hid dim]\n",
    "            #seq len, n layers and n directions will always be 1 in the decoder, therefore:\n",
    "            #output = [1, batch size, hid dim]\n",
    "            #hidden = [1, batch size, hid dim]\n",
    "            output = torch.cat((embedded.squeeze(0), hidden.squeeze(0), context.squeeze(0)), dim = 1)\n",
    "            #output = [batch size, emb dim + hid dim * 2]\n",
    "            prediction = self.fc_out(output)\n",
    "            #prediction = [batch size, output dim]\n",
    "            return prediction, hidden\n",
    "\n",
    "    class Seq2Seq(nn.Module):\n",
    "        def __init__(self, encoder, decoder, device):\n",
    "            super().__init__()\n",
    "            self.encoder = encoder\n",
    "            self.decoder = decoder\n",
    "            self.device = device\n",
    "            assert encoder.hid_dim == decoder.hid_dim, \"Hidden dimensions of encoder and decoder must be equal!\"\n",
    "\n",
    "        def forward(self, src, trg, teacher_forcing_ratio = 0.5):\n",
    "            #src = [src len, batch size]\n",
    "            #trg = [trg len, batch size]\n",
    "            #teacher_forcing_ratio is probability to use teacher forcing\n",
    "            #e.g. if teacher_forcing_ratio is 0.75 we use ground-truth inputs 75% of the time\n",
    "            batch_size = trg.shape[1]\n",
    "            trg_len = trg.shape[0]\n",
    "            trg_vocab_size = self.decoder.output_dim\n",
    "            #tensor to store decoder outputs\n",
    "            outputs = torch.zeros(trg_len, batch_size, trg_vocab_size).to(self.device)\n",
    "            #last hidden state of the encoder is the context\n",
    "            context = self.encoder(src)\n",
    "            #context also used as the initial hidden state of the decoder\n",
    "            hidden = context\n",
    "            #first input to the decoder is the <sos> tokens\n",
    "            input = trg[0,:]\n",
    "            for t in range(1, trg_len):\n",
    "                #insert input token embedding, previous hidden state and the context state\n",
    "                #receive output tensor (predictions) and new hidden state\n",
    "                output, hidden = self.decoder(input, hidden, context)\n",
    "                #place predictions in a tensor holding predictions for each token\n",
    "                outputs[t] = output\n",
    "                #decide if we are going to use teacher forcing or not\n",
    "                teacher_force = random.random() < teacher_forcing_ratio\n",
    "                #get the highest predicted token from our predictions\n",
    "                top1 = output.argmax(1) \n",
    "                #if teacher forcing, use actual next token as next input\n",
    "                #if not, use predicted token\n",
    "                input = trg[t] if teacher_force else top1\n",
    "            return outputs\n",
    "        \n",
    "    enc = Encoder(INPUT_DIM, ENC_EMB_DIM, HID_DIM, ENC_DROPOUT)\n",
    "    dec = Decoder(OUTPUT_DIM, DEC_EMB_DIM, HID_DIM, DEC_DROPOUT)\n",
    "\n",
    "    model = Seq2Seq(enc, dec, device).to(device)\n",
    "\n",
    "    optimizer = optim.Adam(model.parameters())\n",
    "    TRG_PAD_IDX = TRG.vocab.stoi[TRG.pad_token]\n",
    "    criterion = nn.CrossEntropyLoss(ignore_index = TRG_PAD_IDX)\n",
    "    \n",
    "    model.load_state_dict(torch.load('./static/assets/model.pt', map_location=torch.device(device)))\n",
    "    model.eval()\n",
    "    \n",
    "    \n",
    "    s = torch.tensor([SRC.vocab.stoi[i] for i in bd.split()]).to(device)\n",
    "    s = s.view(-1, 1)\n",
    "    #print(s.shape)\n",
    "    t = torch.zeros((9, 1), dtype=torch.int64).to(device)\n",
    "    t[0,:]=2\n",
    "    #print(t.shape)\n",
    "\n",
    "    output = model(s, t, 0) #turn off teacher forcing\n",
    "    #print('output : ', output.shape)\n",
    "    #trg = [trg len, batch size]\n",
    "    #output = [trg len, batch size, output dim]\n",
    "\n",
    "    toks = []\n",
    "    for i in range(9):\n",
    "        toks.append(output[i].argmax(1).squeeze().item())\n",
    "    hd = ' '.join([TRG.vocab.itos[x] for x in toks if x not in [0,3]])\n",
    "    if hd=='\\u200d':\n",
    "        return \"Try Again...\"\n",
    "    else:\n",
    "        return hd"
   ]
  },
  {
   "cell_type": "code",
   "execution_count": 21,
   "id": "f91f9121-2bb3-4474-97f9-281f2490cc6a",
   "metadata": {},
   "outputs": [],
   "source": [
    "txt = \"শেখ হাসিনা বলেন, প্রতিটি জিনিসের দাম সারা বিশ্বব্যাপী বেড়েছে। আমাদের দেশে তো বেড়েছেই, বাইরে আরও অনেক বেশি বেড়েছে। যার ফলে মানুষের, উন্নত দেশগুলোর কথাই বলবো, ইউরোপ-আমেরিকা থেকে শুরু করে বিভিন্ন দেশে মানুষের ক্রয় ক্ষমতা কিন্তু অনেক কমে গেছে। তাই পণ্য চাহিদাটাও তাদের হ্রাস পাচ্ছে। সেটা মাথায় রেখে আমাদের নতুন বাজার খুঁজতে হবে, নতুন জায়গায় যেতে হবে।\""
   ]
  },
  {
   "cell_type": "code",
   "execution_count": 22,
   "id": "cec3de02-1758-4e7d-a670-765795cc7672",
   "metadata": {},
   "outputs": [
    {
     "data": {
      "text/plain": [
       "'শেখ হাসিনা বলেন, প্রতিটি জিনিসের দাম সারা বিশ্বব্যাপী বেড়েছে। আমাদের দেশে তো বেড়েছেই, বাইরে আরও অনেক বেশি বেড়েছে। যার ফলে মানুষের, উন্নত দেশগুলোর কথাই বলবো, ইউরোপ-আমেরিকা থেকে শুরু করে বিভিন্ন দেশে মানুষের ক্রয় ক্ষমতা কিন্তু অনেক কমে গেছে। তাই পণ্য চাহিদাটাও তাদের হ্রাস পাচ্ছে। সেটা মাথায় রেখে আমাদের নতুন বাজার খুঁজতে হবে, নতুন জায়গায় যেতে হবে।'"
      ]
     },
     "execution_count": 22,
     "metadata": {},
     "output_type": "execute_result"
    }
   ],
   "source": [
    "txt"
   ]
  },
  {
   "cell_type": "code",
   "execution_count": 23,
   "id": "a19c5857-fd89-4fa4-bb23-521077ce9176",
   "metadata": {},
   "outputs": [
    {
     "data": {
      "text/plain": [
       "'নতুন প্রজন্মের জন্য প্রস্তুত'"
      ]
     },
     "execution_count": 23,
     "metadata": {},
     "output_type": "execute_result"
    }
   ],
   "source": [
    "eval_one(txt)"
   ]
  },
  {
   "cell_type": "code",
   "execution_count": null,
   "id": "ff7b936b-c1c2-4e5e-8ccf-3c15e72ddac5",
   "metadata": {},
   "outputs": [],
   "source": []
  },
  {
   "cell_type": "code",
   "execution_count": null,
   "id": "77bcc1bc-b64f-402e-b3e5-deccd8e45740",
   "metadata": {},
   "outputs": [],
   "source": []
  }
 ],
 "metadata": {
  "kernelspec": {
   "display_name": "Python 3 (ipykernel)",
   "language": "python",
   "name": "python3"
  },
  "language_info": {
   "codemirror_mode": {
    "name": "ipython",
    "version": 3
   },
   "file_extension": ".py",
   "mimetype": "text/x-python",
   "name": "python",
   "nbconvert_exporter": "python",
   "pygments_lexer": "ipython3",
   "version": "3.10.13"
  }
 },
 "nbformat": 4,
 "nbformat_minor": 5
}
